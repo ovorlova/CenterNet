{
 "cells": [
  {
   "cell_type": "code",
   "execution_count": 10,
   "metadata": {},
   "outputs": [],
   "source": [
    "import json"
   ]
  },
  {
   "cell_type": "code",
   "execution_count": 11,
   "metadata": {},
   "outputs": [],
   "source": [
    "data_gt = json.load(open('results_bbox_w_COCO.json')) ## GTp\n",
    "data_gt = data_gt['annolist']"
   ]
  },
  {
   "cell_type": "code",
   "execution_count": 12,
   "metadata": {},
   "outputs": [],
   "source": [
    "import numpy as np\n",
    "import matplotlib.pyplot as plt\n",
    "import matplotlib.cbook as cbook\n",
    "import skimage.io\n",
    "import cv2"
   ]
  },
  {
   "cell_type": "code",
   "execution_count": 13,
   "metadata": {},
   "outputs": [],
   "source": [
    "edges = [[0,1], [1,2], [2,6], [7,12], [12,11], [11,10], [5,4], [4,3], [3,6], [7,13], [13,14], [14,15], [6,7], [7,8], [8,9]]"
   ]
  },
  {
   "cell_type": "code",
   "execution_count": 14,
   "metadata": {},
   "outputs": [],
   "source": [
    "def draw_bbox(imageDir, image_name, \n",
    "                    rgbPoint_gt = (0, 0, 255), radius = 5,\n",
    "                    view_gt_points = True, points_id = False, view_bbox = True):\n",
    "    imagePath = imageDir + '/' + image_name\n",
    "    \n",
    "    image = skimage.io.imread(imagePath)\n",
    "    gt = {}\n",
    "    size_y = len(image)\n",
    "    size_x = len(image[0])\n",
    "    for img in data_gt:\n",
    "        if img['image'][0]['name'] == image_name:\n",
    "            gt = img\n",
    "    if gt == {}:\n",
    "        assert(\"no gt\")\n",
    "    #print(gt)\n",
    "  \n",
    "    for q in range(len(gt['annorect'])):\n",
    "        if view_gt_points:\n",
    "            gt_points = gt['annorect'][q]['annopoints'][0]['point'].copy()\n",
    "            # pr_points\n",
    "\n",
    "\n",
    "\n",
    "            # gt_points\n",
    "            #print(gt_points)\n",
    "            if view_gt_points:\n",
    "                our_points = []\n",
    "                for point in gt_points:\n",
    "                    our_points.append(point['id'][0])\n",
    "                gt_points_cpy = gt_points.copy()\n",
    "                for i in range(0, 16):\n",
    "                    est = False\n",
    "                    for p in gt_points:\n",
    "                        if p['id'][0] == i:\n",
    "                            est = True\n",
    "                    if not est:\n",
    "                        gt_points.append({'id' : [i]})\n",
    "                gt_points.sort(key = lambda x : x['id'])\n",
    "                for j, e in enumerate(edges):\n",
    "                    \n",
    "                    if e[0] in our_points and e[1] in our_points \\\n",
    "                        and gt_points[e[0]]['x'][0] > 0 and gt_points[e[0]]['y'][0] > 0 \\\n",
    "                        and gt_points[e[1]]['x'][0] > 0 and gt_points[e[1]]['y'][0] > 0:\n",
    "                        jX = int(gt_points[e[0]]['x'][0])\n",
    "                        jY = int(gt_points[e[0]]['y'][0])\n",
    "                        eX = int(gt_points[e[1]]['x'][0])\n",
    "                        eY = int(gt_points[e[1]]['y'][0])\n",
    "                        cv2.line(image, (jX, jY),\n",
    "                              (eX, eY), rgbPoint_gt, 2,\n",
    "                              lineType=cv2.LINE_AA)\n",
    "                for point in gt_points_cpy:\n",
    "                    x = int(point['x'][0])\n",
    "                    y = int(point['y'][0])\n",
    "                    cv2.circle(image, (x, y), radius, rgbPoint_gt, -1)\n",
    "                    if points_id:\n",
    "                        cv2.putText(image, str(point['id'][0]), (x,y), cv2.FONT_HERSHEY_SIMPLEX, 0.5, (0, 255, 0), 2, cv2.LINE_AA)\n",
    "\n",
    "        if view_bbox:\n",
    "            bbox_points = gt['annorect'][q]['bboxes']\n",
    "            xx = int(bbox_points[0])\n",
    "            yy = int(bbox_points[1])\n",
    "            w = int(bbox_points[2])\n",
    "            h = int(bbox_points[3])\n",
    "            \n",
    "            cv2.circle(image, (xx, yy), 3, rgbPoint_gt, -1)\n",
    "            cv2.circle(image, (xx+w, yy), 3, rgbPoint_gt, -1)\n",
    "            cv2.circle(image, (xx, yy+h), 3, rgbPoint_gt, -1)\n",
    "            cv2.circle(image, (xx+w, yy+h), 3, rgbPoint_gt, -1)\n",
    "            cv2.line(image, (xx, yy), (xx+w, yy), rgbPoint_gt, 2, lineType=cv2.LINE_AA)\n",
    "            cv2.line(image, (xx, yy), (xx, yy+h), rgbPoint_gt, 2, lineType=cv2.LINE_AA)\n",
    "            cv2.line(image, (xx+w, yy), (xx+w, yy+h), rgbPoint_gt, 2, lineType=cv2.LINE_AA)\n",
    "            cv2.line(image, (xx, yy+h), (xx+w, yy+h), rgbPoint_gt, 2, lineType=cv2.LINE_AA)\n",
    "    return image"
   ]
  },
  {
   "cell_type": "code",
   "execution_count": 15,
   "metadata": {},
   "outputs": [],
   "source": [
    "def showImage(image):\n",
    "    fig, ax = plt.subplots()\n",
    "\n",
    "    ax.imshow(image)\n",
    "    ax.set_title(type(image))\n",
    "\n",
    "    fig.set_figwidth(60)    #  ширина и\n",
    "    fig.set_figheight(60)    #  высота \"Figure\"\n",
    "\n",
    "    plt.show()"
   ]
  },
  {
   "cell_type": "code",
   "execution_count": 16,
   "metadata": {},
   "outputs": [],
   "source": [
    "def getListOfImages(data):\n",
    "    lst = []\n",
    "    for img in data:\n",
    "        lst.append(img['image'][0]['name'])\n",
    "    \n",
    "    return lst"
   ]
  },
  {
   "cell_type": "code",
   "execution_count": 17,
   "metadata": {
    "scrolled": true
   },
   "outputs": [],
   "source": [
    "def main(imgIndex):\n",
    "    images = getListOfImages(data_gt)\n",
    "    image= draw_bbox('/home/olga/CenterNet/data/coco', images[imgIndex])\n",
    "    # view_gt_points = True, points_id = False, view_bbox = True\n",
    "    \n",
    "    showImage(image)"
   ]
  },
  {
   "cell_type": "code",
   "execution_count": null,
   "metadata": {
    "scrolled": false
   },
   "outputs": [],
   "source": [
    "main(1)"
   ]
  }
 ],
 "metadata": {
  "kernelspec": {
   "display_name": "Python 3",
   "language": "python",
   "name": "python3"
  },
  "language_info": {
   "codemirror_mode": {
    "name": "ipython",
    "version": 3
   },
   "file_extension": ".py",
   "mimetype": "text/x-python",
   "name": "python",
   "nbconvert_exporter": "python",
   "pygments_lexer": "ipython3",
   "version": "3.7.4"
  }
 },
 "nbformat": 4,
 "nbformat_minor": 2
}
